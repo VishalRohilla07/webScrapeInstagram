{
 "cells": [
  {
   "cell_type": "code",
   "execution_count": 57,
   "id": "9338f2cd",
   "metadata": {},
   "outputs": [],
   "source": [
    "from selenium import webdriver\n",
    "from selenium.webdriver.common.keys import Keys\n",
    "from selenium.webdriver.support import expected_conditions as EC\n",
    "from selenium.webdriver.common.by import By\n",
    "from selenium.webdriver.support.wait import WebDriverWait"
   ]
  },
  {
   "cell_type": "code",
   "execution_count": 58,
   "id": "7f3fc29d",
   "metadata": {},
   "outputs": [],
   "source": [
    "import os\n",
    "import wget"
   ]
  },
  {
   "cell_type": "markdown",
   "id": "cd0fecaf",
   "metadata": {},
   "source": [
    "### Log in to your instagram account"
   ]
  },
  {
   "cell_type": "code",
   "execution_count": 59,
   "id": "121773b1",
   "metadata": {},
   "outputs": [],
   "source": [
    "driver = webdriver.Chrome()\n",
    "driver.get('https://www.instagram.com/accounts/login/?')"
   ]
  },
  {
   "cell_type": "code",
   "execution_count": 60,
   "id": "dc66118f",
   "metadata": {},
   "outputs": [],
   "source": [
    "username = WebDriverWait(driver, 10).until(EC.element_to_be_clickable((By.CSS_SELECTOR, \"input[name='username']\")))\n",
    "password = WebDriverWait(driver, 10).until(EC.element_to_be_clickable((By.CSS_SELECTOR, \"input[name='password']\")))\n",
    "                                \n",
    "                                           \n",
    "                                           \n",
    "username.clear()\n",
    "password.clear()\n",
    "username.send_keys(\"username\") ##here you need to enter your username\n",
    "password.send_keys(\"password\") ## here you need to enter your password\n",
    "                                                                         "
   ]
  },
  {
   "cell_type": "code",
   "execution_count": 61,
   "id": "991d8ce3",
   "metadata": {},
   "outputs": [],
   "source": [
    "log_in = WebDriverWait(driver, 10).until(EC.element_to_be_clickable((By.CSS_SELECTOR, \"button[type='submit']\"))).click()"
   ]
  },
  {
   "cell_type": "code",
   "execution_count": 62,
   "id": "ec143b2b",
   "metadata": {
    "scrolled": true
   },
   "outputs": [],
   "source": [
    "not_now = WebDriverWait(driver, 10).until(EC.element_to_be_clickable((By.XPATH, \"//button[contains(text(), 'Not Now')]\"))).click()\n",
    "not_now2 = WebDriverWait(driver, 10).until(EC.element_to_be_clickable((By.XPATH, \"//button[contains(text(), 'Not Now')]\"))).click()"
   ]
  },
  {
   "cell_type": "code",
   "execution_count": 63,
   "id": "18cfdd4f",
   "metadata": {},
   "outputs": [],
   "source": [
    "searchbox = WebDriverWait(driver, 10).until(EC.element_to_be_clickable((By.XPATH, \"//input[@placeholder='Search']\")))\n",
    "searchbox.clear()\n",
    "keyword = \"#cat\"\n",
    "searchbox.send_keys(keyword)"
   ]
  },
  {
   "cell_type": "code",
   "execution_count": 64,
   "id": "9fafd6e2",
   "metadata": {},
   "outputs": [],
   "source": [
    "searchbox.send_keys(Keys.ENTER)"
   ]
  },
  {
   "cell_type": "code",
   "execution_count": 66,
   "id": "481c0c63",
   "metadata": {},
   "outputs": [
    {
     "data": {
      "text/plain": [
       "['https://instagram.fdel4-1.fna.fbcdn.net/v/t51.2885-15/e35/269609292_652129275989503_1483560728944523559_n.jpg?_nc_ht=instagram.fdel4-1.fna.fbcdn.net&_nc_cat=107&_nc_ohc=hwMpiM4bpqsAX8_4G3p&edm=ABZsPhsBAAAA&ccb=7-4&ig_cache_key=Mjc1NDQyODQyMjc4MTUxMDQzMw%3D%3D.2-ccb7-4&oh=00_AT8u-1rNUX1R3qOXFM4HasIejb4Vfj2O-YvZt52DnrbBAg&oe=61EE3427&_nc_sid=4efc9f',\n",
       " 'https://instagram.fdel4-1.fna.fbcdn.net/v/t51.2885-15/e35/269609292_652129275989503_1483560728944523559_n.jpg?_nc_ht=instagram.fdel4-1.fna.fbcdn.net&_nc_cat=107&_nc_ohc=hwMpiM4bpqsAX8_4G3p&edm=ABZsPhsBAAAA&ccb=7-4&ig_cache_key=Mjc1NDQyODQyMjc4MTUxMDQzMw%3D%3D.2-ccb7-4&oh=00_AT8u-1rNUX1R3qOXFM4HasIejb4Vfj2O-YvZt52DnrbBAg&oe=61EE3427&_nc_sid=4efc9f',\n",
       " 'https://instagram.fdel4-1.fna.fbcdn.net/v/t51.2885-15/e35/272173681_1343657489482503_2761822284686271708_n.jpg?_nc_ht=instagram.fdel4-1.fna.fbcdn.net&_nc_cat=103&_nc_ohc=aIhFmUbp6iAAX-324NW&tn=W-fm9yn2XGaCd9tJ&edm=ABZsPhsBAAAA&ccb=7-4&ig_cache_key=Mjc1NDQ0MTg0ODU2NDg2NTEyNQ%3D%3D.2-ccb7-4&oh=00_AT-J7iURxnPP6Hyo-FLdaQomANcNiJhQeKG71i4ZUKnWXw&oe=61EE401B&_nc_sid=4efc9f',\n",
       " 'https://instagram.fdel4-1.fna.fbcdn.net/v/t51.2885-15/e35/272033635_1378231272634455_820941097112820714_n.jpg?_nc_ht=instagram.fdel4-1.fna.fbcdn.net&_nc_cat=103&_nc_ohc=zcqlEqRot-gAX-y5mB9&tn=W-fm9yn2XGaCd9tJ&edm=ABZsPhsBAAAA&ccb=7-4&ig_cache_key=Mjc1NDM2MDUwNzk1NzY0Mzk2Mw%3D%3D.2-ccb7-4&oh=00_AT_09OJOfmT75ukHPEtFzd0CYXcOPJaXpAs1LzqtW1d1Kw&oe=61EE211C&_nc_sid=4efc9f',\n",
       " 'https://instagram.fdel4-1.fna.fbcdn.net/v/t51.2885-15/e15/s640x640/272158721_437954181363758_2511344699837531464_n.jpg?_nc_ht=instagram.fdel4-1.fna.fbcdn.net&_nc_cat=102&_nc_ohc=WYjEu47B7xUAX8jLCEB&edm=ABZsPhsBAAAA&ccb=7-4&ig_cache_key=Mjc1NDI1Mjk0NDI3NzY5NjM3MA%3D%3D.2-ccb7-4&oh=00_AT_IsmRNfRy5j5xzL0ZkqnjAMu_nA35iH6geQI_2RsSryA&oe=61EE793F&_nc_sid=4efc9f',\n",
       " 'https://instagram.fdel4-1.fna.fbcdn.net/v/t51.2885-15/e15/s640x640/272032551_488784122706270_5952200978547430989_n.jpg?_nc_ht=instagram.fdel4-1.fna.fbcdn.net&_nc_cat=1&_nc_ohc=3Z4mUDAjsRcAX8F_Cm_&edm=ABZsPhsBAAAA&ccb=7-4&ig_cache_key=Mjc1NDI4OTU5ODU1OTUzMjc3MQ%3D%3D.2-ccb7-4&oh=00_AT-JjMPo_iS1FrWwnurjf5OduwkxSofEUS44FYzRxK1b1A&oe=61EDEC94&_nc_sid=4efc9f',\n",
       " 'https://instagram.fdel4-1.fna.fbcdn.net/v/t51.2885-15/e15/p640x640/272005877_931961374360775_3826491161100599242_n.jpg?_nc_ht=instagram.fdel4-1.fna.fbcdn.net&_nc_cat=1&_nc_ohc=npxzvSB2drsAX-0qe1H&tn=W-fm9yn2XGaCd9tJ&edm=ABZsPhsBAAAA&ccb=7-4&ig_cache_key=Mjc1NDI5Mzk4NjI2MDE0NzAxNw%3D%3D.2-ccb7-4&oh=00_AT9DZhX8kc5r8K96zYJlNHjlYr28COg2Y6PnvCWhjGsTng&oe=61EEB7ED&_nc_sid=4efc9f',\n",
       " 'https://instagram.fdel4-1.fna.fbcdn.net/v/t51.2885-15/e35/272009760_608301233579571_7146337664928961798_n.webp.jpg?_nc_ht=instagram.fdel4-1.fna.fbcdn.net&_nc_cat=103&_nc_ohc=izyySCVFZ4EAX9XKara&tn=W-fm9yn2XGaCd9tJ&edm=ABZsPhsBAAAA&ccb=7-4&ig_cache_key=Mjc1NDMxNDQ1OTA1NTc2MTM1NA%3D%3D.2-ccb7-4&oh=00_AT_MGIsbMTBecbedAZI0Ou5iMGrVr4RpSx2zznoNrJQDrw&oe=61EF8AB3&_nc_sid=4efc9f',\n",
       " 'https://instagram.fdel4-1.fna.fbcdn.net/v/t51.2885-15/e35/272156147_635900701192333_2146053116719994237_n.jpg?_nc_ht=instagram.fdel4-1.fna.fbcdn.net&_nc_cat=101&_nc_ohc=vMVZjtFozXoAX-yc9nK&tn=W-fm9yn2XGaCd9tJ&edm=ABZsPhsBAAAA&ccb=7-4&ig_cache_key=Mjc1NDI2NjU4NzE0MDE3NTQ3OA%3D%3D.2-ccb7-4&oh=00_AT8wEuqadGM-9R6wtn7vYwWIchAClX9Fo9HAALCXPBYk3Q&oe=61EEB5A3&_nc_sid=4efc9f',\n",
       " 'https://instagram.fdel4-1.fna.fbcdn.net/v/t51.2885-15/e15/s640x640/272021330_142927214833448_237920472766909426_n.jpg?_nc_ht=instagram.fdel4-1.fna.fbcdn.net&_nc_cat=108&_nc_ohc=2gsc0rq5bWUAX9Z5ILl&tn=W-fm9yn2XGaCd9tJ&edm=ABZsPhsBAAAA&ccb=7-4&ig_cache_key=Mjc1NDQxMTIwNTUyMjQ3OTY5OA%3D%3D.2-ccb7-4&oh=00_AT-YrAtL1qr0x2dEhhV8QiUsdHYN9VfPynoFN7goQ9i4VA&oe=61EE9B19&_nc_sid=4efc9f',\n",
       " 'https://instagram.fdel4-1.fna.fbcdn.net/v/t51.2885-15/e35/272135321_137371708744838_7890385879658049209_n.webp.jpg?_nc_ht=instagram.fdel4-1.fna.fbcdn.net&_nc_cat=102&_nc_ohc=1uGgBkUDz0EAX8yrFYK&tn=W-fm9yn2XGaCd9tJ&edm=ABZsPhsBAAAA&ccb=7-4&ig_cache_key=Mjc1NDQ1NjIzNzc1MTgxMTIxMA%3D%3D.2-ccb7-4&oh=00_AT-wkLKs7pyjWBZ1ct2xmmiypvKWrscREIgttTIKZv1-jA&oe=61EF08B6&_nc_sid=4efc9f',\n",
       " 'https://instagram.fdel4-1.fna.fbcdn.net/v/t51.2885-15/e35/272052234_136705608806854_3145050786047478115_n.jpg?_nc_ht=instagram.fdel4-1.fna.fbcdn.net&_nc_cat=110&_nc_ohc=2gH0UyP6tX8AX-HEGgC&edm=ABZsPhsBAAAA&ccb=7-4&ig_cache_key=Mjc1NDQ1NTk1NDgyOTgxMzU2Mg%3D%3D.2-ccb7-4&oh=00_AT9AZoikDhJHtw1-MZs_ycdgaj8vMiRcRePduCWsqJvlTQ&oe=61EE2EED&_nc_sid=4efc9f',\n",
       " 'https://instagram.fdel4-1.fna.fbcdn.net/v/t51.2885-15/e35/272111485_591822178571121_9051628759078971951_n.jpg?_nc_ht=instagram.fdel4-1.fna.fbcdn.net&_nc_cat=109&_nc_ohc=Gng_fCRdEWcAX80azSe&edm=ABZsPhsBAAAA&ccb=7-4&ig_cache_key=Mjc1NDQ1NjM0ODc5OTU5NDY0Nw%3D%3D.2-ccb7-4&oh=00_AT_263RK_gkBnfoi_KGcnxiIw333n38nwmH_mBKePEIkIg&oe=61EDDF1C&_nc_sid=4efc9f',\n",
       " 'https://instagram.fdel4-1.fna.fbcdn.net/v/t51.2885-15/e35/272043443_949491845943668_1452159339338045309_n.jpg?_nc_ht=instagram.fdel4-1.fna.fbcdn.net&_nc_cat=108&_nc_ohc=z-tVwf770JMAX9SSGj7&tn=W-fm9yn2XGaCd9tJ&edm=ABZsPhsBAAAA&ccb=7-4&ig_cache_key=Mjc1NDQ1NjM0MDYxNDE1OTEzMg%3D%3D.2-ccb7-4&oh=00_AT_mo2Q5fNnfyr0mZ3Ba3qqwhu0GFoQudVAvDbZh-W5D1A&oe=61EE8787&_nc_sid=4efc9f',\n",
       " 'https://instagram.fdel4-1.fna.fbcdn.net/v/t51.2885-15/e35/272077428_246148297543095_4355620441329526951_n.webp.jpg?_nc_ht=instagram.fdel4-1.fna.fbcdn.net&_nc_cat=103&_nc_ohc=LLxLymv-gD8AX8ndvyE&edm=ABZsPhsBAAAA&ccb=7-4&ig_cache_key=Mjc1NDQ1NjMxMjQyMDAyMDg5Mw%3D%3D.2-ccb7-4&oh=00_AT8rUqfETUcu1IXtMpc78DF60LevoB9zUeC7ezmgCsKYMw&oe=61EF0160&_nc_sid=4efc9f',\n",
       " 'https://instagram.fdel4-1.fna.fbcdn.net/v/t51.2885-15/e35/272019742_2747620818875470_1121612147363865352_n.jpg?_nc_ht=instagram.fdel4-1.fna.fbcdn.net&_nc_cat=110&_nc_ohc=lmBwmYFCqlcAX8_vuB4&edm=ABZsPhsBAAAA&ccb=7-4&ig_cache_key=Mjc1NDQ1NjE3MzY1NDk4MDEyNw%3D%3D.2-ccb7-4&oh=00_AT9IB-eLdX_GItR4J5oncjhw4jwmiSaXBR3SRU58Uwu_fQ&oe=61EF0AF7&_nc_sid=4efc9f',\n",
       " 'https://instagram.fdel4-1.fna.fbcdn.net/v/t51.2885-15/e35/272144478_1283534282116362_6938170896172993410_n.jpg?_nc_ht=instagram.fdel4-1.fna.fbcdn.net&_nc_cat=106&_nc_ohc=JTg-xbQyQGIAX-O3_Vl&edm=ABZsPhsBAAAA&ccb=7-4&ig_cache_key=Mjc1NDQ1NjQ0MzkxMjMyNzIwNA%3D%3D.2-ccb7-4&oh=00_AT8Nn1i-8Qv_F4Lhp3JYuQIggKiXY9_8BOWrCQg3k9TcOA&oe=61EEF2D1&_nc_sid=4efc9f',\n",
       " 'https://instagram.fdel4-1.fna.fbcdn.net/v/t51.2885-15/fr/e15/s1080x1080/272084944_4606995319377294_4987268893106655988_n.jpg?_nc_ht=instagram.fdel4-1.fna.fbcdn.net&_nc_cat=106&_nc_ohc=oXJN226ELaoAX-fMwxh&edm=ABZsPhsBAAAA&ccb=7-4&ig_cache_key=Mjc1NDQ1NjIxODI1MDQ5ODQ5MA%3D%3D.2-ccb7-4&oh=00_AT9J9EyCDjD5D35XJ2yLVq8-bwIE9mYvZ5YHNqOPanKZmQ&oe=61EDE883&_nc_sid=4efc9f',\n",
       " 'https://instagram.fdel4-1.fna.fbcdn.net/v/t51.2885-15/e35/272034956_123212646875617_3809952066325347081_n.jpg?_nc_ht=instagram.fdel4-1.fna.fbcdn.net&_nc_cat=101&_nc_ohc=t7zxfL--2pwAX_OHJFW&edm=ABZsPhsBAAAA&ccb=7-4&ig_cache_key=Mjc1NDQ1NjEyOTY2NzY3NjIxOQ%3D%3D.2-ccb7-4&oh=00_AT-rl4mTf3beTxrfIXfwMEsv_RRXw8v64h1Bf2In4WoRdQ&oe=61EDD092&_nc_sid=4efc9f',\n",
       " 'https://instagram.fdel4-1.fna.fbcdn.net/v/t51.2885-15/e15/s480x480/272088291_348823207057201_3341991248028665232_n.jpg?_nc_ht=instagram.fdel4-1.fna.fbcdn.net&_nc_cat=101&_nc_ohc=oJ36rhCDPCQAX9NRbXv&edm=ABZsPhsBAAAA&ccb=7-4&ig_cache_key=Mjc1NDQ1NTIyMDM5MTY4MzY0NQ%3D%3D.2-ccb7-4&oh=00_AT8OBXCOOSSuVPvh9B1RsXCWbEvm2uVJzyFZJBIVIZaJYw&oe=61EE3D60&_nc_sid=4efc9f',\n",
       " 'https://instagram.fdel4-1.fna.fbcdn.net/v/t51.2885-15/e35/272031266_1224866481375930_4668432787085178228_n.jpg?_nc_ht=instagram.fdel4-1.fna.fbcdn.net&_nc_cat=106&_nc_ohc=uNgp45m_WlQAX95jin4&edm=ABZsPhsBAAAA&ccb=7-4&ig_cache_key=Mjc1NDQ1NTUxMTE0Nzk3MTM5Mw%3D%3D.2-ccb7-4&oh=00_AT8xMBGS4u-xssY7W1LhCJ9F3AxKFTg8yy43mecZ7Jieig&oe=61EF6EA9&_nc_sid=4efc9f',\n",
       " 'https://instagram.fdel4-1.fna.fbcdn.net/v/t51.2885-15/e35/272115719_1300502127121203_8957329124670717530_n.webp.jpg?_nc_ht=instagram.fdel4-1.fna.fbcdn.net&_nc_cat=103&_nc_ohc=RzYM4xLcKuQAX9CAEmv&edm=ABZsPhsBAAAA&ccb=7-4&ig_cache_key=Mjc1NDQ1NjIyNzQyODEzNDYxOQ%3D%3D.2-ccb7-4&oh=00_AT_lHMp_9hUyHlWTbxBJ7u_R30QyQRZTtGZvaZH5OCNkHA&oe=61EF5B85&_nc_sid=4efc9f',\n",
       " 'https://instagram.fdel4-1.fna.fbcdn.net/v/t51.2885-15/e35/272072139_6819822984757075_1911173642880226745_n.jpg?_nc_ht=instagram.fdel4-1.fna.fbcdn.net&_nc_cat=107&_nc_ohc=cZLWCem4gOoAX83pmpb&edm=ABZsPhsBAAAA&ccb=7-4&ig_cache_key=Mjc1NDQ1NjE5MjI0NjcxMzk2MA%3D%3D.2-ccb7-4&oh=00_AT-vtAosVrdC1QDfbrmlN1tiMDSy4pLPu46yW_fonfrnGA&oe=61EEA5D2&_nc_sid=4efc9f',\n",
       " 'https://instagram.fdel4-1.fna.fbcdn.net/v/t51.2885-15/e35/272008994_137040252111907_4648817573689864811_n.jpg?_nc_ht=instagram.fdel4-1.fna.fbcdn.net&_nc_cat=107&_nc_ohc=qEch4-ldsAcAX_n9EKY&edm=ABZsPhsBAAAA&ccb=7-4&ig_cache_key=Mjc1NDQ1NjE5MjY3NDYzNzAyMg%3D%3D.2-ccb7-4&oh=00_AT_xzsL9kWhDCXO34mtI1daGKtjr685GDKaB10_5YFB0Ew&oe=61EE7C47&_nc_sid=4efc9f',\n",
       " 'https://instagram.fdel4-1.fna.fbcdn.net/v/t51.2885-15/e35/272140180_2799494240343258_8593662663170901166_n.jpg?_nc_ht=instagram.fdel4-1.fna.fbcdn.net&_nc_cat=106&_nc_ohc=lq1yumsKg3IAX9lduZ1&edm=ABZsPhsBAAAA&ccb=7-4&ig_cache_key=Mjc1NDQ1NjQxNjM3OTI3NTIzMg%3D%3D.2-ccb7-4&oh=00_AT9gMHnKrBIH51dcUub-hJ9q7IiN45AQ3obp8PXggEFstg&oe=61EF950C&_nc_sid=4efc9f',\n",
       " 'https://instagram.fdel4-1.fna.fbcdn.net/v/t51.2885-15/e35/272058757_625181068712279_4731841389536166021_n.jpg?_nc_ht=instagram.fdel4-1.fna.fbcdn.net&_nc_cat=111&_nc_ohc=NtMHi1CuAvMAX87aSem&tn=W-fm9yn2XGaCd9tJ&edm=ABZsPhsBAAAA&ccb=7-4&ig_cache_key=Mjc1NDQ1NjMxMTQ0ODE2OTMxMg%3D%3D.2-ccb7-4&oh=00_AT8lrF2OR2f1szUPbKtYJaEsWYyODgPluLuIdCmCsVmZbw&oe=61EF8065&_nc_sid=4efc9f',\n",
       " 'https://instagram.fdel4-1.fna.fbcdn.net/v/t51.2885-15/e35/272114712_332694648571581_4861695914324090949_n.jpg?_nc_ht=instagram.fdel4-1.fna.fbcdn.net&_nc_cat=109&_nc_ohc=XB5MnSCxMukAX_RFrmi&edm=ABZsPhsBAAAA&ccb=7-4&ig_cache_key=Mjc1NDQ1NjI2NzE0Njc1MTMzMQ%3D%3D.2-ccb7-4&oh=00_AT8J-RhqUSWK3tirkdP348-qgAwUpitZa__08QiAi17ErQ&oe=61EEF474&_nc_sid=4efc9f',\n",
       " 'https://instagram.fdel4-1.fna.fbcdn.net/v/t51.2885-15/e35/272017381_978563179410877_9078790316543434887_n.jpg?_nc_ht=instagram.fdel4-1.fna.fbcdn.net&_nc_cat=101&_nc_ohc=0GPH3snD7VwAX-B9mp7&edm=ABZsPhsBAAAA&ccb=7-4&ig_cache_key=Mjc1NDQ1NjQ0NTg4MzYzODYyNA%3D%3D.2-ccb7-4&oh=00_AT8YrihuLrSCwLFFd7lBHIzdUOLSmU0PT9WfMG_uxYokxA&oe=61EE07A1&_nc_sid=4efc9f',\n",
       " 'https://instagram.fdel4-1.fna.fbcdn.net/v/t51.2885-15/e35/272192942_801436644591490_5859503979602259068_n.jpg?_nc_ht=instagram.fdel4-1.fna.fbcdn.net&_nc_cat=110&_nc_ohc=zIoVslsgtcoAX-R3Ynz&edm=ABZsPhsBAAAA&ccb=7-4&ig_cache_key=Mjc1NDQ1NjEyNDI1NjAyNjMwNw%3D%3D.2-ccb7-4&oh=00_AT9xyQlbcqQa7w0xUArKoRHVU88rgVlNCIoO_MgW02rIkg&oe=61EE5CFA&_nc_sid=4efc9f',\n",
       " 'https://instagram.fdel4-1.fna.fbcdn.net/v/t51.2885-15/e35/272074039_1127447461344878_6409283700715539716_n.jpg?_nc_ht=instagram.fdel4-1.fna.fbcdn.net&_nc_cat=102&_nc_ohc=PNVuIejPmIcAX9EUxtQ&tn=W-fm9yn2XGaCd9tJ&edm=ABZsPhsBAAAA&ccb=7-4&ig_cache_key=Mjc1NDQ1NjM3NDYxMzk2MjA3OA%3D%3D.2-ccb7-4&oh=00_AT99j2D9d4Ouh6WVozrGNrpHNh0iS6G404wPc-eZLCmz2w&oe=61EDDF8A&_nc_sid=4efc9f',\n",
       " 'https://instagram.fdel4-1.fna.fbcdn.net/v/t51.2885-15/e35/272174850_7056693134402321_4269724061032167776_n.jpg?_nc_ht=instagram.fdel4-1.fna.fbcdn.net&_nc_cat=105&_nc_ohc=i5n5yPFF9EMAX8ZsqEt&tn=W-fm9yn2XGaCd9tJ&edm=ABZsPhsBAAAA&ccb=7-4&ig_cache_key=Mjc1NDQ1NjIzMzU0Mzg0MjgyMA%3D%3D.2-ccb7-4&oh=00_AT-gy_-gM6tSpnxVtpmZNn0vZXyMDMZyghxplaNPqoxTCA&oe=61EF3467&_nc_sid=4efc9f',\n",
       " 'https://instagram.fdel4-1.fna.fbcdn.net/v/t51.2885-15/fr/e15/p1080x1080/271975020_3203182296619667_6704994507496280650_n.jpg?_nc_ht=instagram.fdel4-1.fna.fbcdn.net&_nc_cat=111&_nc_ohc=wHBN4xfkFi0AX9QdUy8&tn=W-fm9yn2XGaCd9tJ&edm=ABZsPhsBAAAA&ccb=7-4&ig_cache_key=Mjc1NDQ1NjAxNTk2Njc5NDYxMg%3D%3D.2-ccb7-4&oh=00_AT_H6SX89FNqVOWoqT7Tp-LOCdBpzC0u3aU5_sPKdtVkHg&oe=61EF8C01&_nc_sid=4efc9f',\n",
       " 'https://instagram.fdel4-1.fna.fbcdn.net/v/t51.2885-15/fr/e15/p1080x1080/272197937_459514468979492_4124432756304702587_n.jpg?_nc_ht=instagram.fdel4-1.fna.fbcdn.net&_nc_cat=108&_nc_ohc=aJIT-xDpx5sAX90LqCO&edm=ABZsPhsBAAAA&ccb=7-4&ig_cache_key=Mjc1NDQ1NjIxOTMxNDk5OTgwMg%3D%3D.2-ccb7-4&oh=00_AT94BqH6k1WMyZqfNZAcB-GhVAlZ3teSkHx0ERBxGjW7zA&oe=61EF0B10&_nc_sid=4efc9f',\n",
       " 'https://instagram.fdel4-1.fna.fbcdn.net/v/t51.2885-15/e35/272198096_238696228414384_3642030115145080047_n.jpg?_nc_ht=instagram.fdel4-1.fna.fbcdn.net&_nc_cat=104&_nc_ohc=_luzQGJuWoAAX-2zR5S&edm=ABZsPhsBAAAA&ccb=7-4&ig_cache_key=Mjc1NDQ1NDk3ODg1MDExMDU0NQ%3D%3D.2-ccb7-4&oh=00_AT9qmle54819qp3i-cOYqALU5zMvI1wJmfomuhkiF62poQ&oe=61EEA6FD&_nc_sid=4efc9f',\n",
       " 'https://www.instagram.com/static/images/web/mobile_nav_type_logo.png/735145cfe0a4.png',\n",
       " 'https://instagram.fdel4-1.fna.fbcdn.net/v/t51.2885-19/s150x150/174779555_2921217381486724_5303023696097762914_n.jpg?_nc_ht=instagram.fdel4-1.fna.fbcdn.net&_nc_cat=104&_nc_ohc=W7UKokK5DUMAX8YkCfQ&edm=ALlQn9MBAAAA&ccb=7-4&oh=00_AT9fmTzsmnqUvJ9TfeJb5tb-UKI1NUPMy_1DTyC92xSaOw&oe=61EF1F3E&_nc_sid=48a2a6']"
      ]
     },
     "execution_count": 66,
     "metadata": {},
     "output_type": "execute_result"
    }
   ],
   "source": [
    "driver.execute_script(\"window.scrollTo(0,4000);\")\n",
    "\n",
    "images = driver.find_elements_by_tag_name('img')\n",
    "images = [image.get_attribute('src') for image in images]\n",
    "\n",
    "images"
   ]
  },
  {
   "cell_type": "markdown",
   "id": "fbef9e9d",
   "metadata": {},
   "source": [
    "### Save Images to Computer"
   ]
  },
  {
   "cell_type": "code",
   "execution_count": 67,
   "id": "abdedb9e",
   "metadata": {},
   "outputs": [
    {
     "data": {
      "text/plain": [
       "'C:\\\\Users\\\\OLIVE\\\\anaconda3\\\\web scraping\\\\dogs'"
      ]
     },
     "execution_count": 67,
     "metadata": {},
     "output_type": "execute_result"
    }
   ],
   "source": [
    "path = os.getcwd()\n",
    "path = os.path.join(path, keyword[1:] + \"s\")\n",
    "\n",
    "os.mkdir(path)\n",
    "path"
   ]
  },
  {
   "cell_type": "code",
   "execution_count": 68,
   "id": "3aafd7d7",
   "metadata": {},
   "outputs": [
    {
     "name": "stdout",
     "output_type": "stream",
     "text": [
      "100% [................................................................................] 5419 / 5419"
     ]
    }
   ],
   "source": [
    "counter = 0\n",
    "for image in images:\n",
    "    save_as = os.path.join(path, keyword[1:] + str(counter) + '.jpg')\n",
    "    wget.download(image, save_as)\n",
    "    counter += 1"
   ]
  }
 ],
 "metadata": {
  "kernelspec": {
   "display_name": "Python 3 (ipykernel)",
   "language": "python",
   "name": "python3"
  },
  "language_info": {
   "codemirror_mode": {
    "name": "ipython",
    "version": 3
   },
   "file_extension": ".py",
   "mimetype": "text/x-python",
   "name": "python",
   "nbconvert_exporter": "python",
   "pygments_lexer": "ipython3",
   "version": "3.9.7"
  }
 },
 "nbformat": 4,
 "nbformat_minor": 5
}
