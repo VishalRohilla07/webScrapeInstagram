{
 "cells": [
  {
   "cell_type": "code",
   "execution_count": 1,
   "id": "9338f2cd",
   "metadata": {},
   "outputs": [],
   "source": [
    "from selenium import webdriver\n",
    "from selenium.webdriver.common.keys import Keys\n",
    "from selenium.webdriver.support import expected_conditions as EC\n",
    "from selenium.webdriver.common.by import By\n",
    "from selenium.webdriver.support.wait import WebDriverWait"
   ]
  },
  {
   "cell_type": "code",
   "execution_count": 2,
   "id": "7f3fc29d",
   "metadata": {},
   "outputs": [],
   "source": [
    "import os\n",
    "import wget"
   ]
  },
  {
   "cell_type": "markdown",
   "id": "cd0fecaf",
   "metadata": {},
   "source": [
    "### Log in to your instagram account"
   ]
  },
  {
   "cell_type": "code",
   "execution_count": 3,
   "id": "121773b1",
   "metadata": {},
   "outputs": [],
   "source": [
    "driver = webdriver.Chrome()\n",
    "driver.get('https://www.instagram.com/accounts/login/?')"
   ]
  },
  {
   "cell_type": "code",
   "execution_count": 4,
   "id": "dc66118f",
   "metadata": {},
   "outputs": [],
   "source": [
    "username = WebDriverWait(driver, 10).until(EC.element_to_be_clickable((By.CSS_SELECTOR, \"input[name='username']\")))\n",
    "password = WebDriverWait(driver, 10).until(EC.element_to_be_clickable((By.CSS_SELECTOR, \"input[name='password']\")))\n",
    "                                \n",
    "                                           \n",
    "                                           \n",
    "username.clear()\n",
    "password.clear()\n",
    "username.send_keys(\"\") ##here you need to enter your username\n",
    "password.send_keys(\"\") ## here you need to enter your password\n",
    "                                                                         "
   ]
  },
  {
   "cell_type": "code",
   "execution_count": 5,
   "id": "991d8ce3",
   "metadata": {},
   "outputs": [],
   "source": [
    "log_in = WebDriverWait(driver, 10).until(EC.element_to_be_clickable((By.CSS_SELECTOR, \"button[type='submit']\"))).click()"
   ]
  },
  {
   "cell_type": "code",
   "execution_count": 8,
   "id": "ec143b2b",
   "metadata": {
    "scrolled": true
   },
   "outputs": [
    {
     "ename": "TimeoutException",
     "evalue": "Message: \n",
     "output_type": "error",
     "traceback": [
      "\u001b[1;31m---------------------------------------------------------------------------\u001b[0m",
      "\u001b[1;31mTimeoutException\u001b[0m                          Traceback (most recent call last)",
      "\u001b[1;32m~\\AppData\\Local\\Temp/ipykernel_12176/1333804629.py\u001b[0m in \u001b[0;36m<module>\u001b[1;34m\u001b[0m\n\u001b[0;32m      1\u001b[0m \u001b[0mnot_now\u001b[0m \u001b[1;33m=\u001b[0m \u001b[0mWebDriverWait\u001b[0m\u001b[1;33m(\u001b[0m\u001b[0mdriver\u001b[0m\u001b[1;33m,\u001b[0m \u001b[1;36m10\u001b[0m\u001b[1;33m)\u001b[0m\u001b[1;33m.\u001b[0m\u001b[0muntil\u001b[0m\u001b[1;33m(\u001b[0m\u001b[0mEC\u001b[0m\u001b[1;33m.\u001b[0m\u001b[0melement_to_be_clickable\u001b[0m\u001b[1;33m(\u001b[0m\u001b[1;33m(\u001b[0m\u001b[0mBy\u001b[0m\u001b[1;33m.\u001b[0m\u001b[0mXPATH\u001b[0m\u001b[1;33m,\u001b[0m \u001b[1;34m\"//button[contains(text(), 'Not Now')]\"\u001b[0m\u001b[1;33m)\u001b[0m\u001b[1;33m)\u001b[0m\u001b[1;33m)\u001b[0m\u001b[1;33m.\u001b[0m\u001b[0mclick\u001b[0m\u001b[1;33m(\u001b[0m\u001b[1;33m)\u001b[0m\u001b[1;33m\u001b[0m\u001b[1;33m\u001b[0m\u001b[0m\n\u001b[1;32m----> 2\u001b[1;33m \u001b[0mnot_now2\u001b[0m \u001b[1;33m=\u001b[0m \u001b[0mWebDriverWait\u001b[0m\u001b[1;33m(\u001b[0m\u001b[0mdriver\u001b[0m\u001b[1;33m,\u001b[0m \u001b[1;36m10\u001b[0m\u001b[1;33m)\u001b[0m\u001b[1;33m.\u001b[0m\u001b[0muntil\u001b[0m\u001b[1;33m(\u001b[0m\u001b[0mEC\u001b[0m\u001b[1;33m.\u001b[0m\u001b[0melement_to_be_clickable\u001b[0m\u001b[1;33m(\u001b[0m\u001b[1;33m(\u001b[0m\u001b[0mBy\u001b[0m\u001b[1;33m.\u001b[0m\u001b[0mXPATH\u001b[0m\u001b[1;33m,\u001b[0m \u001b[1;34m\"//button[contains(text(), 'Not Now')]\"\u001b[0m\u001b[1;33m)\u001b[0m\u001b[1;33m)\u001b[0m\u001b[1;33m)\u001b[0m\u001b[1;33m.\u001b[0m\u001b[0mclick\u001b[0m\u001b[1;33m(\u001b[0m\u001b[1;33m)\u001b[0m\u001b[1;33m\u001b[0m\u001b[1;33m\u001b[0m\u001b[0m\n\u001b[0m",
      "\u001b[1;32m~\\anaconda3\\lib\\site-packages\\selenium\\webdriver\\support\\wait.py\u001b[0m in \u001b[0;36muntil\u001b[1;34m(self, method, message)\u001b[0m\n\u001b[0;32m     78\u001b[0m             \u001b[1;32mif\u001b[0m \u001b[0mtime\u001b[0m\u001b[1;33m.\u001b[0m\u001b[0mtime\u001b[0m\u001b[1;33m(\u001b[0m\u001b[1;33m)\u001b[0m \u001b[1;33m>\u001b[0m \u001b[0mend_time\u001b[0m\u001b[1;33m:\u001b[0m\u001b[1;33m\u001b[0m\u001b[1;33m\u001b[0m\u001b[0m\n\u001b[0;32m     79\u001b[0m                 \u001b[1;32mbreak\u001b[0m\u001b[1;33m\u001b[0m\u001b[1;33m\u001b[0m\u001b[0m\n\u001b[1;32m---> 80\u001b[1;33m         \u001b[1;32mraise\u001b[0m \u001b[0mTimeoutException\u001b[0m\u001b[1;33m(\u001b[0m\u001b[0mmessage\u001b[0m\u001b[1;33m,\u001b[0m \u001b[0mscreen\u001b[0m\u001b[1;33m,\u001b[0m \u001b[0mstacktrace\u001b[0m\u001b[1;33m)\u001b[0m\u001b[1;33m\u001b[0m\u001b[1;33m\u001b[0m\u001b[0m\n\u001b[0m\u001b[0;32m     81\u001b[0m \u001b[1;33m\u001b[0m\u001b[0m\n\u001b[0;32m     82\u001b[0m     \u001b[1;32mdef\u001b[0m \u001b[0muntil_not\u001b[0m\u001b[1;33m(\u001b[0m\u001b[0mself\u001b[0m\u001b[1;33m,\u001b[0m \u001b[0mmethod\u001b[0m\u001b[1;33m,\u001b[0m \u001b[0mmessage\u001b[0m\u001b[1;33m=\u001b[0m\u001b[1;34m''\u001b[0m\u001b[1;33m)\u001b[0m\u001b[1;33m:\u001b[0m\u001b[1;33m\u001b[0m\u001b[1;33m\u001b[0m\u001b[0m\n",
      "\u001b[1;31mTimeoutException\u001b[0m: Message: \n"
     ]
    }
   ],
   "source": [
    "not_now = WebDriverWait(driver, 10).until(EC.element_to_be_clickable((By.XPATH, \"//button[contains(text(), 'Not Now')]\"))).click()\n",
    "not_now2 = WebDriverWait(driver, 10).until(EC.element_to_be_clickable((By.XPATH, \"//button[contains(text(), 'Not Now')]\"))).click()"
   ]
  },
  {
   "cell_type": "code",
   "execution_count": 12,
   "id": "18cfdd4f",
   "metadata": {},
   "outputs": [],
   "source": [
    "searchbox = WebDriverWait(driver, 10).until(EC.element_to_be_clickable((By.XPATH, \"//input[@placeholder='Search']\")))\n",
    "searchbox.clear()\n",
    "keyword = \"#cat\"\n",
    "searchbox.send_keys(keyword)"
   ]
  },
  {
   "cell_type": "code",
   "execution_count": 14,
   "id": "9fafd6e2",
   "metadata": {},
   "outputs": [],
   "source": [
    "searchbox.send_keys(Keys.ENTER)"
   ]
  },
  {
   "cell_type": "code",
   "execution_count": 17,
   "id": "481c0c63",
   "metadata": {},
   "outputs": [
    {
     "data": {
      "text/plain": [
       "['https://instagram.fdel4-1.fna.fbcdn.net/v/t51.2885-15/fr/e15/p1080x1080/271882907_501835944580611_7635042609450718669_n.jpg?_nc_ht=instagram.fdel4-1.fna.fbcdn.net&_nc_cat=1&_nc_ohc=TZ4mxUZHrM4AX8QUD5N&tn=jRyNKBQ3lZzNZC2q&edm=ABZsPhsBAAAA&ccb=7-4&ig_cache_key=Mjc1MDE0ODc3MDkyMDYyNjUzOQ%3D%3D.2-ccb7-4&oh=00_AT_R_zsU6zkj9tbaXqnkjvltre53vxdXultukdpgL2884A&oe=61E73ECD&_nc_sid=4efc9f',\n",
       " 'https://instagram.fdel4-1.fna.fbcdn.net/v/t51.2885-15/fr/e15/p1080x1080/271882907_501835944580611_7635042609450718669_n.jpg?_nc_ht=instagram.fdel4-1.fna.fbcdn.net&_nc_cat=1&_nc_ohc=TZ4mxUZHrM4AX8QUD5N&tn=jRyNKBQ3lZzNZC2q&edm=ABZsPhsBAAAA&ccb=7-4&ig_cache_key=Mjc1MDE0ODc3MDkyMDYyNjUzOQ%3D%3D.2-ccb7-4&oh=00_AT_R_zsU6zkj9tbaXqnkjvltre53vxdXultukdpgL2884A&oe=61E73ECD&_nc_sid=4efc9f',\n",
       " 'https://instagram.fdel4-1.fna.fbcdn.net/v/t51.2885-15/e35/271785669_500619504723189_8827472628395726109_n.jpg?_nc_ht=instagram.fdel4-1.fna.fbcdn.net&_nc_cat=1&_nc_ohc=az9QtRhTW6MAX-wjDox&edm=ABZsPhsBAAAA&ccb=7-4&ig_cache_key=Mjc1MDEyODczMjM4MTM2NTg5Nw%3D%3D.2-ccb7-4&oh=00_AT_92A33RkxjUYL2eczu0CFqMG7XFBfozYd9m9rlFsyWsA&oe=61E78F1A&_nc_sid=4efc9f',\n",
       " 'https://instagram.fdel4-1.fna.fbcdn.net/v/t51.2885-15/e35/271811368_1846460585547558_7646158972015347364_n.jpg?_nc_ht=instagram.fdel4-1.fna.fbcdn.net&_nc_cat=106&_nc_ohc=kdU7saoOswAAX_utRaV&edm=ABZsPhsBAAAA&ccb=7-4&ig_cache_key=Mjc1MDAxOTIyODE3OTg1OTc4MQ%3D%3D.2-ccb7-4&oh=00_AT9AUf1T1Ev-_CLYU_bPDQuo_BPLwkF42-8SGyH_P1dpUw&oe=61E6CFFC&_nc_sid=4efc9f',\n",
       " 'https://instagram.fdel4-1.fna.fbcdn.net/v/t51.2885-15/e15/s640x640/271624959_344004957303287_7275955659573819175_n.jpg?_nc_ht=instagram.fdel4-1.fna.fbcdn.net&_nc_cat=111&_nc_ohc=9EiLIKdQa0EAX9Bu_uP&edm=ABZsPhsBAAAA&ccb=7-4&ig_cache_key=Mjc0OTk2ODAyODE5MzY3MDk1Mg%3D%3D.2-ccb7-4&oh=00_AT9Yx6svANgf8Y-EEZfRjJ7I104Gxp-YP3v3LOm9NH1nUg&oe=61E6853B&_nc_sid=4efc9f',\n",
       " 'https://instagram.fdel4-1.fna.fbcdn.net/v/t51.2885-15/e35/271672027_630318381632759_2977064587617354753_n.jpg?_nc_ht=instagram.fdel4-1.fna.fbcdn.net&_nc_cat=111&_nc_ohc=X3leNAPNLjYAX9I49l6&tn=jRyNKBQ3lZzNZC2q&edm=ABZsPhsBAAAA&ccb=7-4&ig_cache_key=Mjc1MDIxNTg5NTM2MTQ1MDEwOA%3D%3D.2-ccb7-4&oh=00_AT94ApEMklognFLin2WPBJN6FARGMHtYiS5Bc6tv1ulasw&oe=61E6F37E&_nc_sid=4efc9f',\n",
       " 'https://instagram.fdel4-1.fna.fbcdn.net/v/t51.2885-15/fr/e15/s1080x1080/271649923_531722181143044_225042322605026947_n.jpg?_nc_ht=instagram.fdel4-1.fna.fbcdn.net&_nc_cat=1&_nc_ohc=8RZKWwjPRgkAX-Tih6O&edm=ABZsPhsBAAAA&ccb=7-4&ig_cache_key=Mjc1MDEyNzk5OTI0NzgxNjk3NQ%3D%3D.2-ccb7-4&oh=00_AT9NZKC1E6C_WJLqPAUKS8g0TZInO1jyv-X29tk3Ahn02g&oe=61E79DBE&_nc_sid=4efc9f',\n",
       " 'https://instagram.fdel4-1.fna.fbcdn.net/v/t51.2885-15/e35/271669067_299998505525341_4093613515827586035_n.jpg?_nc_ht=instagram.fdel4-1.fna.fbcdn.net&_nc_cat=101&_nc_ohc=AKx6TBeHQmQAX976YTI&edm=ABZsPhsBAAAA&ccb=7-4&ig_cache_key=Mjc1MDEzNTkzNTY1MzE4MDU1NA%3D%3D.2-ccb7-4&oh=00_AT_O_QIQycD5C1uBTXa22xjt-lsIwbunDTr14ZEhaHtJWg&oe=61E7261C&_nc_sid=4efc9f',\n",
       " 'https://instagram.fdel4-1.fna.fbcdn.net/v/t51.2885-15/e35/271668746_1094814524616506_6521445802305876191_n.webp.jpg?_nc_ht=instagram.fdel4-1.fna.fbcdn.net&_nc_cat=102&_nc_ohc=l1PozGnnkP0AX8HGJHv&tn=jRyNKBQ3lZzNZC2q&edm=ABZsPhsBAAAA&ccb=7-4&ig_cache_key=Mjc1MDA2NzEyMTI2MDAzODc2Mw%3D%3D.2-ccb7-4&oh=00_AT_mDdbBm7HlQ1WntUE5OY0jjNWyEK87WL7CReQtQlCO8w&oe=61E6DE1B&_nc_sid=4efc9f',\n",
       " 'https://instagram.fdel4-1.fna.fbcdn.net/v/t51.2885-15/e35/271906995_1793348627525572_8361400553911401235_n.jpg?_nc_ht=instagram.fdel4-1.fna.fbcdn.net&_nc_cat=104&_nc_ohc=MpvMseTaV0EAX_CUifu&edm=ABZsPhsBAAAA&ccb=7-4&ig_cache_key=Mjc1MDEyNTI1Mzg2MDM5NTYwMg%3D%3D.2-ccb7-4&oh=00_AT_tjXsSRY4RN1rHHO1siiHDkqakeqa8oMTokHUpMHkiag&oe=61E6959E&_nc_sid=4efc9f',\n",
       " 'https://instagram.fdel4-1.fna.fbcdn.net/v/t51.2885-15/e35/271813435_315189970509033_2246370818720305705_n.webp.jpg?_nc_ht=instagram.fdel4-1.fna.fbcdn.net&_nc_cat=109&_nc_ohc=D05vdWEHickAX-KadLW&tn=jRyNKBQ3lZzNZC2q&edm=ABZsPhsBAAAA&ccb=7-4&ig_cache_key=Mjc1MDIyNjU1Mzc5MjMwNjk0Mw%3D%3D.2-ccb7-4&oh=00_AT805jxyVZhufd65AZ7IygEaehqwW-xiXCq5DUhIEGbicQ&oe=61E67F93&_nc_sid=4efc9f',\n",
       " 'https://instagram.fdel4-1.fna.fbcdn.net/v/t51.2885-15/e35/271673892_598833537888112_3048485202099688573_n.jpg?_nc_ht=instagram.fdel4-1.fna.fbcdn.net&_nc_cat=104&_nc_ohc=VcJZJODkhZQAX-1gMOq&edm=ABZsPhsBAAAA&ccb=7-4&ig_cache_key=Mjc1MDIyNjc4NTY3MDI5Mzc2Mw%3D%3D.2-ccb7-4&oh=00_AT8jiiotKk8LbjrmtP1Nr2lbIAdJje5CIX35Nt67a_euXw&oe=61E6E8ED&_nc_sid=4efc9f',\n",
       " 'https://instagram.fdel4-1.fna.fbcdn.net/v/t51.2885-15/e35/271669842_353445743276359_7545325683984828976_n.jpg?_nc_ht=instagram.fdel4-1.fna.fbcdn.net&_nc_cat=107&_nc_ohc=bCFKE_bZRE8AX-2hxUV&edm=ABZsPhsBAAAA&ccb=7-4&ig_cache_key=Mjc1MDIyNjkzNDI4MzMzNTk0Mw%3D%3D.2-ccb7-4&oh=00_AT8mpzk15yWuzj6KiYNa3dPllnq4U3VyjyoLOY_46Eag7g&oe=61E6AC23&_nc_sid=4efc9f',\n",
       " 'https://instagram.fdel4-1.fna.fbcdn.net/v/t51.2885-15/e35/271794951_289837139840431_3358137309259275233_n.webp.jpg?_nc_ht=instagram.fdel4-1.fna.fbcdn.net&_nc_cat=107&_nc_ohc=nKWW_7OrJOgAX-Ji1hn&edm=ABZsPhsBAAAA&ccb=7-4&ig_cache_key=Mjc1MDIyNjkwMjY2NjU3MjMwNw%3D%3D.2-ccb7-4&oh=00_AT8onaRSuu7q4PR4pa816BjL61RlQhvAgUEnqGYp86EoIA&oe=61E7F0D4&_nc_sid=4efc9f',\n",
       " 'https://instagram.fdel4-1.fna.fbcdn.net/v/t51.2885-15/e35/271797331_156569926696702_9089704869251688133_n.jpg?_nc_ht=instagram.fdel4-1.fna.fbcdn.net&_nc_cat=110&_nc_ohc=9Hsyf6T5s5EAX9DDY0L&edm=ABZsPhsBAAAA&ccb=7-4&ig_cache_key=Mjc1MDIyNjk2ODI4MjYyODExNw%3D%3D.2-ccb7-4&oh=00_AT_TB6gdu34EKsGy1EiMPOL6G4em2-RJlhH210jd7vmemg&oe=61E66205&_nc_sid=4efc9f',\n",
       " 'https://instagram.fdel4-1.fna.fbcdn.net/v/t51.2885-15/e35/271762295_1095899727877059_5939755430490494120_n.jpg?_nc_ht=instagram.fdel4-1.fna.fbcdn.net&_nc_cat=103&_nc_ohc=mfeB3ziJ3TYAX9Oel3M&edm=ABZsPhsBAAAA&ccb=7-4&ig_cache_key=Mjc1MDIyNjk4Mjc2MjQyMjI5NA%3D%3D.2-ccb7-4&oh=00_AT8mcpYFxcEvG7uxnJI-1sGC9qmAJeVAVdpfEEusD-vjVw&oe=61E60C85&_nc_sid=4efc9f',\n",
       " 'https://instagram.fdel4-1.fna.fbcdn.net/v/t51.2885-15/e35/271682578_3085914921666416_5622101284716824565_n.jpg?_nc_ht=instagram.fdel4-1.fna.fbcdn.net&_nc_cat=108&_nc_ohc=BfmP3iaTrn8AX84kKpo&tn=jRyNKBQ3lZzNZC2q&edm=ABZsPhsBAAAA&ccb=7-4&ig_cache_key=Mjc1MDIyNjk2Njk4MDc1NDU0OA%3D%3D.2-ccb7-4&oh=00_AT9iUhg3HRMNvledtQtifk3bDdjD31QmAImxgQW5LICMHw&oe=61E68EE6&_nc_sid=4efc9f',\n",
       " 'https://instagram.fdel4-1.fna.fbcdn.net/v/t51.2885-15/e35/271911247_234794352168861_8918331861090335478_n.webp.jpg?_nc_ht=instagram.fdel4-1.fna.fbcdn.net&_nc_cat=109&_nc_ohc=8N2z0_Q5iWQAX-o_Pel&tn=jRyNKBQ3lZzNZC2q&edm=ABZsPhsBAAAA&ccb=7-4&ig_cache_key=Mjc1MDIyNjg5MjI3Mjg1MDA3Mw%3D%3D.2-ccb7-4&oh=00_AT_zr4zCXO43uhB098D9VB9rs7wTrBzLHsdPb8ZOO6pbnA&oe=61E6FF7E&_nc_sid=4efc9f',\n",
       " 'https://instagram.fdel4-1.fna.fbcdn.net/v/t51.2885-15/e15/p640x640/271710995_1525578724508774_6374755549072214475_n.jpg?_nc_ht=instagram.fdel4-1.fna.fbcdn.net&_nc_cat=102&_nc_ohc=VZ5ubrWZ4pYAX-HjSM1&edm=ABZsPhsBAAAA&ccb=7-4&ig_cache_key=Mjc1MDIyNjc5MDM2MDQ1ODkwNQ%3D%3D.2-ccb7-4&oh=00_AT9kmUSNN9h58LDXuvUNQqYyxVZCZoemxsDmtjIXCN--HA&oe=61E7A2E0&_nc_sid=4efc9f',\n",
       " 'https://instagram.fdel4-1.fna.fbcdn.net/v/t51.2885-15/fr/e15/s1080x1080/271685317_4648658061907947_862490956492699273_n.jpg?_nc_ht=instagram.fdel4-1.fna.fbcdn.net&_nc_cat=103&_nc_ohc=PsZzanNZjSIAX80GGsD&edm=ABZsPhsBAAAA&ccb=7-4&ig_cache_key=Mjc1MDIyNjc2MTI3Njk1NzYwOA%3D%3D.2-ccb7-4&oh=00_AT8pnjmVy6Rq7_JsA7hb54mgNdgnFHmy7ZIZudQaalHMHA&oe=61E7754B&_nc_sid=4efc9f',\n",
       " 'https://instagram.fdel4-1.fna.fbcdn.net/v/t51.2885-15/e35/271669405_913427152872552_5143712479422465802_n.jpg?_nc_ht=instagram.fdel4-1.fna.fbcdn.net&_nc_cat=100&_nc_ohc=IopOT28XpMMAX9hdCfs&edm=ABZsPhsBAAAA&ccb=7-4&ig_cache_key=Mjc1MDIyNjg3ODc0ODQxMjg5NA%3D%3D.2-ccb7-4&oh=00_AT8kVNWcpf6z37LNbWJq58YjgxVL6gS9pl_dTDkN4i4sUg&oe=61E7C151&_nc_sid=4efc9f',\n",
       " 'https://instagram.fdel4-1.fna.fbcdn.net/v/t51.2885-15/e35/271785124_1277139869446714_630371216201772289_n.jpg?_nc_ht=instagram.fdel4-1.fna.fbcdn.net&_nc_cat=110&_nc_ohc=PJGR23t0TzUAX8S6sdR&edm=ABZsPhsBAAAA&ccb=7-4&ig_cache_key=Mjc1MDIyNjg2MzE3MzA3NjYyMQ%3D%3D.2-ccb7-4&oh=00_AT9D_uXrH6vUCxUjanUECb6n6cS48Fejh-P8DXExu7LZtQ&oe=61E7D90D&_nc_sid=4efc9f',\n",
       " 'https://instagram.fdel4-1.fna.fbcdn.net/v/t51.2885-15/e35/271668289_1415800845503127_4140315842793182159_n.jpg?_nc_ht=instagram.fdel4-1.fna.fbcdn.net&_nc_cat=103&_nc_ohc=0-EW9vuE7SoAX99V1C6&edm=ABZsPhsBAAAA&ccb=7-4&ig_cache_key=Mjc1MDIyNTU4MTQxMDEzNzkwNA%3D%3D.2-ccb7-4&oh=00_AT_oP6Uqlsuqy3Wrb8Y-va6yTzCINpjaPcgZT3-h-zcw7Q&oe=61E75EA1&_nc_sid=4efc9f',\n",
       " 'https://instagram.fdel4-1.fna.fbcdn.net/v/t51.2885-15/fr/e15/s1080x1080/271823695_1766598556872870_1341222252044349982_n.jpg?_nc_ht=instagram.fdel4-1.fna.fbcdn.net&_nc_cat=106&_nc_ohc=sgfXT5Z9XCsAX-jCO65&edm=ABZsPhsBAAAA&ccb=7-4&ig_cache_key=Mjc1MDIyNzAwNDExMDE4NzA1OA%3D%3D.2-ccb7-4&oh=00_AT_AeM8rUZRAnWigVQ81-MxJQj9L6Txmsh2jB12s2TJ_hw&oe=61E6847B&_nc_sid=4efc9f',\n",
       " 'https://instagram.fdel4-1.fna.fbcdn.net/v/t51.2885-15/e35/271762919_1238665093309359_4604065338997438423_n.webp.jpg?_nc_ht=instagram.fdel4-1.fna.fbcdn.net&_nc_cat=103&_nc_ohc=PVyz5hw2McUAX_RRBWZ&edm=ABZsPhsBAAAA&ccb=7-4&ig_cache_key=Mjc1MDIyNjk5NzY4NDAwNjAzMg%3D%3D.2-ccb7-4&oh=00_AT_vuKci5i-hoceXlwHnFiJ4s1gadOWm-_UBYRwuUliQ6g&oe=61E6B396&_nc_sid=4efc9f',\n",
       " 'https://instagram.fdel4-1.fna.fbcdn.net/v/t51.2885-15/e35/271638501_420154846555511_8941771186523682231_n.webp.jpg?_nc_ht=instagram.fdel4-1.fna.fbcdn.net&_nc_cat=111&_nc_ohc=hBpmX0YiwtYAX9DKbuh&edm=ABZsPhsBAAAA&ccb=7-4&ig_cache_key=Mjc1MDIyNjM5NzMyOTA4NDg2MA%3D%3D.2-ccb7-4&oh=00_AT-N_Xv2oMJ-Ma_68QjrUuuWqJeQFTOB_6IvlufAjsYzbw&oe=61E68895&_nc_sid=4efc9f',\n",
       " 'https://instagram.fdel4-1.fna.fbcdn.net/v/t51.2885-15/e35/271673456_439955857864295_1069340477149849039_n.jpg?_nc_ht=instagram.fdel4-1.fna.fbcdn.net&_nc_cat=111&_nc_ohc=W8snN_PzFQMAX_z5VO-&edm=ABZsPhsBAAAA&ccb=7-4&ig_cache_key=Mjc1MDIyNjkxODI1MDIwMjU2Nw%3D%3D.2-ccb7-4&oh=00_AT_99umpUq0JQFmLgGZG45KmbBmMpjzVZnLA7l9ICXN9lA&oe=61E6C7B7&_nc_sid=4efc9f',\n",
       " 'https://instagram.fdel4-1.fna.fbcdn.net/v/t51.2885-15/e35/271705482_1062581724289349_1176243895726045401_n.webp.jpg?_nc_ht=instagram.fdel4-1.fna.fbcdn.net&_nc_cat=105&_nc_ohc=Xotcl0EG-DAAX8IQ-65&edm=ABZsPhsBAAAA&ccb=7-4&ig_cache_key=Mjc1MDIyNjkyMjk2NjcwMDM2Mw%3D%3D.2-ccb7-4&oh=00_AT82k2Zez1snGg33lHYniQRq0D8ycOjl2S36qs4os20LpQ&oe=61E6F1DD&_nc_sid=4efc9f',\n",
       " 'https://instagram.fdel4-1.fna.fbcdn.net/v/t51.2885-15/e35/271668984_730287228359936_7385813572072790109_n.jpg?_nc_ht=instagram.fdel4-1.fna.fbcdn.net&_nc_cat=108&_nc_ohc=jTSipoXqX0EAX-BDy3H&edm=ABZsPhsBAAAA&ccb=7-4&ig_cache_key=Mjc1MDIyNjk1Nzc4ODg4MTQyMA%3D%3D.2-ccb7-4&oh=00_AT-uZerTRMneYZ0m7jWINExdiGJxCiKwcYzV1_CZZbT1Xw&oe=61E643A0&_nc_sid=4efc9f',\n",
       " 'https://instagram.fdel4-1.fna.fbcdn.net/v/t51.2885-15/e35/271846239_205722998364877_7133915695556945371_n.webp.jpg?_nc_ht=instagram.fdel4-1.fna.fbcdn.net&_nc_cat=101&_nc_ohc=BvWhjGcO-b8AX8sqQdy&edm=ABZsPhsBAAAA&ccb=7-4&ig_cache_key=Mjc1MDIyNjkxMzM5NTAxMzg0Ng%3D%3D.2-ccb7-4&oh=00_AT_XpC882ea8e8Rq5qXbqGE7F1guV5oTOZBrX6cQgX3dnw&oe=61E6595E&_nc_sid=4efc9f',\n",
       " 'https://instagram.fdel4-1.fna.fbcdn.net/v/t51.2885-15/e35/271609947_229766992671859_7818682633543277407_n.jpg?_nc_ht=instagram.fdel4-1.fna.fbcdn.net&_nc_cat=107&_nc_ohc=1gL7JaLIDoQAX8vLouM&edm=ABZsPhsBAAAA&ccb=7-4&ig_cache_key=Mjc1MDIyNjg5ODA5NTA5MTI5MQ%3D%3D.2-ccb7-4&oh=00_AT-UXFdpTWv0FRptDVczFKT7ba4uiFR_oXynrzDm9N-Zwg&oe=61E63267&_nc_sid=4efc9f',\n",
       " 'https://instagram.fdel4-1.fna.fbcdn.net/v/t51.2885-15/e35/271849576_464004215188181_4380789463775706660_n.webp.jpg?_nc_ht=instagram.fdel4-1.fna.fbcdn.net&_nc_cat=105&_nc_ohc=ELaIvn_DfsIAX8zeNag&edm=ABZsPhsBAAAA&ccb=7-4&ig_cache_key=Mjc1MDIyNjk4OTYzOTM0MjMxMw%3D%3D.2-ccb7-4&oh=00_AT9NPWg2mJXrzbdOVkUew04reGwjN3bVsUy8t0GLGIxTKw&oe=61E6AF2A&_nc_sid=4efc9f',\n",
       " 'https://instagram.fdel4-1.fna.fbcdn.net/v/t51.2885-15/e35/271792363_395086742420479_6781375910225190263_n.jpg?_nc_ht=instagram.fdel4-1.fna.fbcdn.net&_nc_cat=107&_nc_ohc=fL4zxGMubbMAX-uW4CU&edm=ABZsPhsBAAAA&ccb=7-4&ig_cache_key=Mjc1MDIyNjk3NzgwMzA4NDY2NA%3D%3D.2-ccb7-4&oh=00_AT-iRMnJm4B-QQ_jN0LTD_af03jcC12Vb0v3Mrcih_GczQ&oe=61E61B89&_nc_sid=4efc9f',\n",
       " 'https://instagram.fdel4-1.fna.fbcdn.net/v/t51.2885-15/e15/p640x640/271669578_357242149075476_1169098677644165053_n.jpg?_nc_ht=instagram.fdel4-1.fna.fbcdn.net&_nc_cat=100&_nc_ohc=0yFuDwQVnAwAX-2vnFX&edm=ABZsPhsBAAAA&ccb=7-4&ig_cache_key=Mjc1MDIyNjg4OTcwMzcwNDgzMA%3D%3D.2-ccb7-4&oh=00_AT_6im4Kf_JZdyRsJJhpwtax-KGGf1Lz5f1xqCjK35ha-g&oe=61E6BBDA&_nc_sid=4efc9f',\n",
       " 'https://www.instagram.com/static/images/web/mobile_nav_type_logo.png/735145cfe0a4.png',\n",
       " 'https://instagram.fdel4-1.fna.fbcdn.net/v/t51.2885-19/s150x150/174779555_2921217381486724_5303023696097762914_n.jpg?_nc_ht=instagram.fdel4-1.fna.fbcdn.net&_nc_cat=104&_nc_ohc=E6B7sQvWxLAAX-He3ng&edm=AIQHJ4wBAAAA&ccb=7-4&oh=00_AT955zLScUWmmc844EhgsE9dUjM4b8wUKZ_Ae4WMMrk7Qw&oe=61E7363E&_nc_sid=7b02f1']"
      ]
     },
     "execution_count": 17,
     "metadata": {},
     "output_type": "execute_result"
    }
   ],
   "source": [
    "driver.execute_script(\"window.scrollTo(0,4000);\")\n",
    "\n",
    "images = driver.find_elements_by_tag_name('img')\n",
    "images = [image.get_attribute('src') for image in images]\n",
    "\n",
    "images"
   ]
  },
  {
   "cell_type": "markdown",
   "id": "fbef9e9d",
   "metadata": {},
   "source": [
    "### Save Images to Computer"
   ]
  },
  {
   "cell_type": "code",
   "execution_count": 18,
   "id": "abdedb9e",
   "metadata": {},
   "outputs": [
    {
     "data": {
      "text/plain": [
       "'C:\\\\Users\\\\OLIVE\\\\anaconda3\\\\web scraping\\\\cats'"
      ]
     },
     "execution_count": 18,
     "metadata": {},
     "output_type": "execute_result"
    }
   ],
   "source": [
    "path = os.getcwd()\n",
    "path = os.path.join(path, keyword[1:] + \"s\")\n",
    "\n",
    "os.mkdir(path)\n",
    "path"
   ]
  },
  {
   "cell_type": "code",
   "execution_count": 19,
   "id": "3aafd7d7",
   "metadata": {},
   "outputs": [
    {
     "name": "stdout",
     "output_type": "stream",
     "text": [
      "100% [................................................................................] 5419 / 5419"
     ]
    }
   ],
   "source": [
    "counter = 0\n",
    "for image in images:\n",
    "    save_as = os.path.join(path, keyword[1:] + str(counter) + '.jpg')\n",
    "    wget.download(image, save_as)\n",
    "    counter += 1"
   ]
  },
  {
   "cell_type": "code",
   "execution_count": null,
   "id": "68258971",
   "metadata": {},
   "outputs": [],
   "source": []
  },
  {
   "cell_type": "code",
   "execution_count": null,
   "id": "d8951a15",
   "metadata": {},
   "outputs": [],
   "source": []
  }
 ],
 "metadata": {
  "kernelspec": {
   "display_name": "Python 3 (ipykernel)",
   "language": "python",
   "name": "python3"
  },
  "language_info": {
   "codemirror_mode": {
    "name": "ipython",
    "version": 3
   },
   "file_extension": ".py",
   "mimetype": "text/x-python",
   "name": "python",
   "nbconvert_exporter": "python",
   "pygments_lexer": "ipython3",
   "version": "3.9.7"
  }
 },
 "nbformat": 4,
 "nbformat_minor": 5
}
